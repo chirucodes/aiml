{
  "nbformat": 4,
  "nbformat_minor": 0,
  "metadata": {
    "colab": {
      "provenance": [],
      "authorship_tag": "ABX9TyNoVfBieBgfcM8N3f2Ze911",
      "include_colab_link": true
    },
    "kernelspec": {
      "name": "python3",
      "display_name": "Python 3"
    },
    "language_info": {
      "name": "python"
    }
  },
  "cells": [
    {
      "cell_type": "markdown",
      "metadata": {
        "id": "view-in-github",
        "colab_type": "text"
      },
      "source": [
        "<a href=\"https://colab.research.google.com/github/chirucodes/aiml/blob/main/13_Roman_to_Integer.ipynb\" target=\"_parent\"><img src=\"https://colab.research.google.com/assets/colab-badge.svg\" alt=\"Open In Colab\"/></a>"
      ]
    },
    {
      "cell_type": "markdown",
      "source": [
        "### **13. Roman to Integer**\n",
        "\n",
        "Find the problem description here: https://leetcode.com/problems/roman-to-integer/description/"
      ],
      "metadata": {
        "id": "VU91AsgO8dlB"
      }
    },
    {
      "cell_type": "markdown",
      "source": [
        "# **Solution:1**"
      ],
      "metadata": {
        "id": "vz4z4maP8z50"
      }
    },
    {
      "cell_type": "code",
      "source": [
        "class Solution:\n",
        "    def romanToInt(self, s: str) -> int:\n",
        "        I=1\n",
        "        V=5\n",
        "        X=10\n",
        "        L=50\n",
        "        C=100\n",
        "        D=500\n",
        "        M=1000\n",
        "        \n",
        "        ip = list(s)\n",
        "        final = 0\n",
        "        try:\n",
        "            print(\"ip : \", ip)\n",
        "            each_r = ip.pop()\n",
        "            flag = 0\n",
        "            \n",
        "            while eval(each_r) > 0:\n",
        "                print(\"ip : \", ip)\n",
        "                print(\"each_r : \", each_r)\n",
        "                try:\n",
        "                    next_char_val = ip.pop()\n",
        "                except IndexError as e:\n",
        "                    final = final + eval(each_r)\n",
        "                    flag = 1\n",
        "                    break\n",
        "\n",
        "                if eval(each_r) < eval(next_char_val):\n",
        "                    res = eval(next_char_val)\n",
        "                    each_r = ip.pop()\n",
        "                    final = final + res\n",
        "                    continue\n",
        "                elif eval(each_r) == eval(next_char_val):\n",
        "                    res = eval(each_r) + eval(next_char_val)\n",
        "                    temp = each_r\n",
        "                    each_r = ip.pop()\n",
        "                    \n",
        "                    if eval(each_r) == eval(temp):\n",
        "                        res = res + eval(each_r)\n",
        "                        temp = each_r\n",
        "                        each_r = ip.pop()\n",
        "                        if eval(each_r) == eval(temp):\n",
        "                            res = res + eval(each_r)\n",
        "                            each_r = ip.pop()\n",
        "                        else:\n",
        "                            ip.append(each_r)\n",
        "                            each_r = temp\n",
        "                    else:\n",
        "                        ip.append(each_r)\n",
        "                    final = (final*10) + res\n",
        "                elif eval(each_r) > eval(next_char_val):\n",
        "                    res = eval(each_r) - eval(next_char_val)\n",
        "                    each_r = ip.pop()\n",
        "                    final = final + res\n",
        "                    continue\n",
        "        except IndexError as e:\n",
        "            print(\"parsing completed: \", e)\n",
        "        finally:\n",
        "            if flag == 0:\n",
        "                final = (final*10) + res\n",
        "        print(\"Final value: \", final)\n",
        "        return final"
      ],
      "metadata": {
        "id": "ZgBUhmLnuSkd"
      },
      "execution_count": 64,
      "outputs": []
    },
    {
      "cell_type": "code",
      "source": [
        "sol = Solution()\n",
        "sol.romanToInt(s='MCMXCIV')"
      ],
      "metadata": {
        "colab": {
          "base_uri": "https://localhost:8080/"
        },
        "id": "0cvZctKRuSnM",
        "outputId": "40b9ede9-b753-4a3f-ff08-89b3a840598f"
      },
      "execution_count": 65,
      "outputs": [
        {
          "output_type": "stream",
          "name": "stdout",
          "text": [
            "ip :  ['M', 'C', 'M', 'X', 'C', 'I', 'V']\n",
            "ip :  ['M', 'C', 'M', 'X', 'C', 'I']\n",
            "each_r :  V\n",
            "ip :  ['M', 'C', 'M', 'X']\n",
            "each_r :  C\n",
            "ip :  ['M', 'C']\n",
            "each_r :  M\n",
            "ip :  []\n",
            "each_r :  M\n",
            "Final value:  1994\n"
          ]
        },
        {
          "output_type": "execute_result",
          "data": {
            "text/plain": [
              "1994"
            ]
          },
          "metadata": {},
          "execution_count": 65
        }
      ]
    },
    {
      "cell_type": "code",
      "source": [
        "sol.romanToInt(s='IM')"
      ],
      "metadata": {
        "colab": {
          "base_uri": "https://localhost:8080/"
        },
        "id": "-KY534QjuSqA",
        "outputId": "3f0e6319-82f7-48c4-969c-4ff8dbeba27a"
      },
      "execution_count": 67,
      "outputs": [
        {
          "output_type": "stream",
          "name": "stdout",
          "text": [
            "ip :  ['I', 'M']\n",
            "ip :  ['I']\n",
            "each_r :  M\n",
            "parsing completed:  pop from empty list\n",
            "Final value:  999\n"
          ]
        },
        {
          "output_type": "execute_result",
          "data": {
            "text/plain": [
              "999"
            ]
          },
          "metadata": {},
          "execution_count": 67
        }
      ]
    },
    {
      "cell_type": "markdown",
      "source": [
        "# **Best Soultion**"
      ],
      "metadata": {
        "id": "K3AzUGOg89kv"
      }
    },
    {
      "cell_type": "code",
      "source": [
        "class BestSolution:\n",
        "    def romanToInt(self, s: str) -> int:\n",
        "        I=1\n",
        "        V=5\n",
        "        X=10\n",
        "        L=50\n",
        "        C=100\n",
        "        D=500\n",
        "        M=1000\n",
        "        \n",
        "        ip = list(s[::-1])\n",
        "        # each_r = ip.pop()\n",
        "\n",
        "        prev = eval(ip[0])\n",
        "        final_val = prev\n",
        "\n",
        "        for each in ip[1:]:\n",
        "            cur = eval(each)\n",
        "            if prev > cur:\n",
        "                prev = cur\n",
        "                final_val = final_val + (-1*cur)\n",
        "            else:\n",
        "                prev = cur\n",
        "                final_val = final_val + cur\n",
        "        return final_val\n",
        "\n",
        "\n",
        "\n",
        "bsol = BestSolution()\n",
        "bsol.romanToInt(s=\"MCMXCIV\")"
      ],
      "metadata": {
        "colab": {
          "base_uri": "https://localhost:8080/"
        },
        "id": "42uHGZEeyC5i",
        "outputId": "b630b117-7748-4e39-8fb8-254243da4729"
      },
      "execution_count": 68,
      "outputs": [
        {
          "output_type": "execute_result",
          "data": {
            "text/plain": [
              "1994"
            ]
          },
          "metadata": {},
          "execution_count": 68
        }
      ]
    },
    {
      "cell_type": "code",
      "source": [
        "bsol.romanToInt(s='IM')"
      ],
      "metadata": {
        "colab": {
          "base_uri": "https://localhost:8080/"
        },
        "id": "Sjyl2l3YyC7-",
        "outputId": "54cdbd9c-4707-48be-a619-e6770bda056e"
      },
      "execution_count": 69,
      "outputs": [
        {
          "output_type": "execute_result",
          "data": {
            "text/plain": [
              "999"
            ]
          },
          "metadata": {},
          "execution_count": 69
        }
      ]
    }
  ]
}