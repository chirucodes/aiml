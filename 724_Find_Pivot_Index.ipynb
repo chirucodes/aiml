{
  "nbformat": 4,
  "nbformat_minor": 0,
  "metadata": {
    "colab": {
      "provenance": [],
      "authorship_tag": "ABX9TyMiRYSmRn+5ZkLuj7RaWa/Y",
      "include_colab_link": true
    },
    "kernelspec": {
      "name": "python3",
      "display_name": "Python 3"
    },
    "language_info": {
      "name": "python"
    }
  },
  "cells": [
    {
      "cell_type": "markdown",
      "metadata": {
        "id": "view-in-github",
        "colab_type": "text"
      },
      "source": [
        "<a href=\"https://colab.research.google.com/github/chirucodes/aiml/blob/main/724_Find_Pivot_Index.ipynb\" target=\"_parent\"><img src=\"https://colab.research.google.com/assets/colab-badge.svg\" alt=\"Open In Colab\"/></a>"
      ]
    },
    {
      "cell_type": "markdown",
      "source": [
        "## 724. Find Pivot Index\n",
        "Problem description:https://leetcode.com/problems/find-pivot-index/"
      ],
      "metadata": {
        "id": "qddQwl2luMCm"
      }
    },
    {
      "cell_type": "code",
      "execution_count": 92,
      "metadata": {
        "id": "6AcW3qLyuLMJ"
      },
      "outputs": [],
      "source": [
        "from typing import List\n",
        "class Solution1:\n",
        "    def pivotIndex(self, nums: List[int]) -> int:\n",
        "        for each in range(0, len(nums)):\n",
        "            if sum(nums[0:each]) == sum(nums[each+1:len(nums)]):\n",
        "                return each\n",
        "        return -1"
      ]
    },
    {
      "cell_type": "code",
      "source": [
        "sol1 = Solution1()\n",
        "sol1.pivotIndex([1,7,3,6,5,6])"
      ],
      "metadata": {
        "colab": {
          "base_uri": "https://localhost:8080/"
        },
        "id": "2l7zFPv34O7b",
        "outputId": "b37951f5-ee36-43a1-ee3f-a9e922eb2e30"
      },
      "execution_count": 93,
      "outputs": [
        {
          "output_type": "execute_result",
          "data": {
            "text/plain": [
              "3"
            ]
          },
          "metadata": {},
          "execution_count": 93
        }
      ]
    },
    {
      "cell_type": "code",
      "source": [
        "sol1.pivotIndex([1,2,3])"
      ],
      "metadata": {
        "colab": {
          "base_uri": "https://localhost:8080/"
        },
        "id": "Bma43Klh4Zf7",
        "outputId": "6428797a-f4c3-4c77-bf13-cf9f77ea3719"
      },
      "execution_count": 94,
      "outputs": [
        {
          "output_type": "execute_result",
          "data": {
            "text/plain": [
              "-1"
            ]
          },
          "metadata": {},
          "execution_count": 94
        }
      ]
    },
    {
      "cell_type": "code",
      "source": [
        "sol1.pivotIndex([2,1,-1])"
      ],
      "metadata": {
        "colab": {
          "base_uri": "https://localhost:8080/"
        },
        "id": "Gu58Llft4iaS",
        "outputId": "12a4601e-fe94-4d0b-d56d-fff28d543b3c"
      },
      "execution_count": 95,
      "outputs": [
        {
          "output_type": "execute_result",
          "data": {
            "text/plain": [
              "0"
            ]
          },
          "metadata": {},
          "execution_count": 95
        }
      ]
    },
    {
      "cell_type": "code",
      "source": [
        "sol1.pivotIndex([-1,-1,-1,-1,-1,-1])"
      ],
      "metadata": {
        "colab": {
          "base_uri": "https://localhost:8080/"
        },
        "id": "K1O_u6trA3jQ",
        "outputId": "f0d8d560-cddf-49aa-ed1e-01ad822fd156"
      },
      "execution_count": 96,
      "outputs": [
        {
          "output_type": "execute_result",
          "data": {
            "text/plain": [
              "-1"
            ]
          },
          "metadata": {},
          "execution_count": 96
        }
      ]
    },
    {
      "cell_type": "code",
      "source": [
        "sol1.pivotIndex([-1, -1, -1, -1, -1, -1, -1])"
      ],
      "metadata": {
        "colab": {
          "base_uri": "https://localhost:8080/"
        },
        "id": "Y_g1llWHBQJJ",
        "outputId": "d0d3e110-0572-4460-f554-5062b827af6e"
      },
      "execution_count": 97,
      "outputs": [
        {
          "output_type": "execute_result",
          "data": {
            "text/plain": [
              "3"
            ]
          },
          "metadata": {},
          "execution_count": 97
        }
      ]
    },
    {
      "cell_type": "markdown",
      "source": [
        "## Solution2:"
      ],
      "metadata": {
        "id": "nTEj-_jG54sp"
      }
    },
    {
      "cell_type": "code",
      "source": [
        "from typing import List\n",
        "class Solution2:\n",
        "    def pivotIndex(self, nums: List[int]) -> int:\n",
        "\n",
        "        lsum = 0\n",
        "        rsum_t = sum(nums)\n",
        "\n",
        "        if lsum == sum(nums[1:]):\n",
        "            return 0\n",
        "        \n",
        "        print(f\"rsum_t: {rsum_t}\")\n",
        "\n",
        "        for each in range(len(nums)):\n",
        "            # print(\"each: \", each)\n",
        "            \n",
        "            rsum = rsum_t - nums[each] - lsum\n",
        "            print(f\"l: {lsum}, r: {rsum}\")\n",
        "            \n",
        "            if lsum == rsum:\n",
        "                return each\n",
        "            lsum = lsum + nums[each]\n",
        "        return -1"
      ],
      "metadata": {
        "id": "qll9Duqo52o8"
      },
      "execution_count": 98,
      "outputs": []
    },
    {
      "cell_type": "code",
      "source": [
        "sol2 = Solution2()\n",
        "sol2.pivotIndex([1,7,3,6,5,6])"
      ],
      "metadata": {
        "colab": {
          "base_uri": "https://localhost:8080/"
        },
        "id": "PmYXofXH620l",
        "outputId": "969f8fe0-8dee-4aed-fce4-c1479424b017"
      },
      "execution_count": 99,
      "outputs": [
        {
          "output_type": "stream",
          "name": "stdout",
          "text": [
            "rsum_t: 28\n",
            "l: 0, r: 27\n",
            "l: 1, r: 20\n",
            "l: 8, r: 17\n",
            "l: 11, r: 11\n"
          ]
        },
        {
          "output_type": "execute_result",
          "data": {
            "text/plain": [
              "3"
            ]
          },
          "metadata": {},
          "execution_count": 99
        }
      ]
    },
    {
      "cell_type": "code",
      "source": [
        "sol2.pivotIndex([-1,-1,-1,-1,-1,-1])"
      ],
      "metadata": {
        "colab": {
          "base_uri": "https://localhost:8080/"
        },
        "id": "kGWIOFCgA8xv",
        "outputId": "7e3f4408-9ed5-45d4-9745-92e27086d154"
      },
      "execution_count": 100,
      "outputs": [
        {
          "output_type": "stream",
          "name": "stdout",
          "text": [
            "rsum_t: -6\n",
            "l: 0, r: -5\n",
            "l: -1, r: -4\n",
            "l: -2, r: -3\n",
            "l: -3, r: -2\n",
            "l: -4, r: -1\n",
            "l: -5, r: 0\n"
          ]
        },
        {
          "output_type": "execute_result",
          "data": {
            "text/plain": [
              "-1"
            ]
          },
          "metadata": {},
          "execution_count": 100
        }
      ]
    },
    {
      "cell_type": "code",
      "source": [
        "sol2.pivotIndex([2,-1,1])"
      ],
      "metadata": {
        "colab": {
          "base_uri": "https://localhost:8080/"
        },
        "id": "idYYmuS68m89",
        "outputId": "001e408c-0385-49a0-f2c6-f36616d39ddf"
      },
      "execution_count": 101,
      "outputs": [
        {
          "output_type": "execute_result",
          "data": {
            "text/plain": [
              "0"
            ]
          },
          "metadata": {},
          "execution_count": 101
        }
      ]
    },
    {
      "cell_type": "code",
      "source": [
        "sol2.pivotIndex([1,2,3])"
      ],
      "metadata": {
        "colab": {
          "base_uri": "https://localhost:8080/"
        },
        "id": "41f2exVB_Uuf",
        "outputId": "09262343-fa8c-4b2b-9894-c00f487740e0"
      },
      "execution_count": 102,
      "outputs": [
        {
          "output_type": "stream",
          "name": "stdout",
          "text": [
            "rsum_t: 6\n",
            "l: 0, r: 5\n",
            "l: 1, r: 3\n",
            "l: 3, r: 0\n"
          ]
        },
        {
          "output_type": "execute_result",
          "data": {
            "text/plain": [
              "-1"
            ]
          },
          "metadata": {},
          "execution_count": 102
        }
      ]
    },
    {
      "cell_type": "code",
      "source": [
        "sol2.pivotIndex([2,1,-1])"
      ],
      "metadata": {
        "colab": {
          "base_uri": "https://localhost:8080/"
        },
        "id": "JHMjpKNK_YQ-",
        "outputId": "50649bcd-ffaf-4a5a-b534-a86e5468ba5e"
      },
      "execution_count": 103,
      "outputs": [
        {
          "output_type": "execute_result",
          "data": {
            "text/plain": [
              "0"
            ]
          },
          "metadata": {},
          "execution_count": 103
        }
      ]
    },
    {
      "cell_type": "code",
      "source": [
        "sol2.pivotIndex([-1, -1, -1, -1, -1, -1, -1])"
      ],
      "metadata": {
        "colab": {
          "base_uri": "https://localhost:8080/"
        },
        "id": "uWI8ulRnBWCS",
        "outputId": "72a31388-ec12-443f-a05f-f4848f549a26"
      },
      "execution_count": 104,
      "outputs": [
        {
          "output_type": "stream",
          "name": "stdout",
          "text": [
            "rsum_t: -7\n",
            "l: 0, r: -6\n",
            "l: -1, r: -5\n",
            "l: -2, r: -4\n",
            "l: -3, r: -3\n"
          ]
        },
        {
          "output_type": "execute_result",
          "data": {
            "text/plain": [
              "3"
            ]
          },
          "metadata": {},
          "execution_count": 104
        }
      ]
    },
    {
      "cell_type": "markdown",
      "source": [
        "## Solution3:"
      ],
      "metadata": {
        "id": "n043C4wWDjJF"
      }
    },
    {
      "cell_type": "code",
      "source": [
        "class Solution3(object):\n",
        "    def pivotIndex(self, nums):\n",
        "        \"\"\"\n",
        "        :type nums: List[int]\n",
        "        :rtype: int\n",
        "        \"\"\"\n",
        "        total = sum(nums)\n",
        "        left_sum = 0\n",
        "        for index in range(len(nums)):                \n",
        "            right_sum = total - left_sum - nums[index]\n",
        "            if left_sum == right_sum:\n",
        "                return index\n",
        "            left_sum += nums[index]\n",
        "        return -1"
      ],
      "metadata": {
        "id": "t5SlmZ6ZDThi"
      },
      "execution_count": 105,
      "outputs": []
    },
    {
      "cell_type": "code",
      "source": [
        "sol3 = Solution3()\n",
        "sol3.pivotIndex([-1,-1,-1,-1,-1,-1])"
      ],
      "metadata": {
        "colab": {
          "base_uri": "https://localhost:8080/"
        },
        "id": "SPitMWbODXGa",
        "outputId": "364ae754-5153-40ea-f6ec-269b73aaa27c"
      },
      "execution_count": 106,
      "outputs": [
        {
          "output_type": "execute_result",
          "data": {
            "text/plain": [
              "-1"
            ]
          },
          "metadata": {},
          "execution_count": 106
        }
      ]
    }
  ]
}